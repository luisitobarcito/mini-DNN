{
 "cells": [
  {
   "cell_type": "markdown",
   "metadata": {},
   "source": [
    "# Multilayer feedforward network example\n",
    "This is a simple implementation of multilayer feed forward network. Flexible enough to change make easy changes to the architecture, but simple enough to have browse through the code. The main purpose of this module is to ilustrate the main components involved in neural network training: data manager, layers, activation functions, network, cost functions, and training algorithm."
   ]
  },
  {
   "cell_type": "code",
   "execution_count": 1,
   "metadata": {
    "collapsed": false
   },
   "outputs": [],
   "source": [
    "%matplotlib inline\n",
    "\n",
    "import matplotlib\n",
    "import numpy as np\n",
    "import matplotlib.pyplot as plt\n",
    "\n",
    "# Module with the neural net classes \n",
    "import DNN\n",
    "import Solvers"
   ]
  },
  {
   "cell_type": "markdown",
   "metadata": {},
   "source": [
    "We wil demonstrate the nonlinear representation capabilities fot the multilayer feedforward network with the XOR problem. First, let's create a small dataset with samples from positive and negative classes.  "
   ]
  },
  {
   "cell_type": "code",
   "execution_count": 2,
   "metadata": {
    "collapsed": false
   },
   "outputs": [
    {
     "data": {
      "image/png": "[encoded data removed]",
      "text/plain": [
       "<matplotlib.figure.Figure at 0x7f4e8c4d9650>"
      ]
     },
     "metadata": {},
     "output_type": "display_data"
    }
   ],
   "source": [
    "N = 100\n",
    "data = np.concatenate((np.random.multivariate_normal(mean=[0, 0], cov=[[0.5, 0],[0, 0.5]], size=N), \\\n",
    "                       np.random.multivariate_normal(mean=[4, 4], cov=[[0.5, 0],[0, 0.5]], size=N), \\\n",
    "                       np.random.multivariate_normal(mean=[0, 4], cov=[[0.5, 0],[0, 0.5]], size=N), \\\n",
    "                       np.random.multivariate_normal(mean=[4, 0], cov=[[0.5, 0],[0, 0.5]], size=N)), axis=0)\n",
    "\n",
    "# Arrays are explicitly defined as (N x 1) for convenience allowing generlizations to netowrks with multidimensional outputs\n",
    "labels = np.concatenate((np.ones((2*N, 1)), np.zeros((2*N, 1))), axis=0)\n",
    "\n",
    "plt.plot(data[labels[:,0] == 1, 0], data[labels[:,0] == 1, 1], 'r+', label='label = 1')\n",
    "plt.hold\n",
    "plt.plot(data[labels[:,0] == 0, 0], data[labels[:,0] == 0, 1], 'bo', label='label = 0')\n",
    "plt.legend()\n",
    "plt.show()"
   ]
  },
  {
   "cell_type": "markdown",
   "metadata": {},
   "source": [
    "## Defining the network\n",
    "Let's define a multiple layer network to learn the XOR function. First, we need to instatiate an empty Net object. Then layers can be added from input to output layers by invoking the addLayer method of the Net object."
   ]
  },
  {
   "cell_type": "code",
   "execution_count": 3,
   "metadata": {
    "collapsed": false
   },
   "outputs": [],
   "source": [
    "# instantiate an empty network  \n",
    "my_net = DNN.Net()\n",
    "# add layers to my_net in a bottom up fashion\n",
    "my_net.addLayer(DNN.Layer(n_in=2, n_out=6, activation='relu'))\n",
    "my_net.addLayer(DNN.Layer(n_in=6, n_out=1, activation='sigmoid'))\n"
   ]
  },
  {
   "cell_type": "markdown",
   "metadata": {},
   "source": [
    "## Choosing a solver and seting up the net trainer\n",
    "\n",
    "The solver class contains the methods that can be employed to compute the paramter updates. The solver function is to take the gradients of the cost function with respect to the network parameters and calculate the corresponding increments to the current network parameters. "
   ]
  },
  {
   "cell_type": "code",
   "execution_count": 4,
   "metadata": {
    "collapsed": false
   },
   "outputs": [
    {
     "name": "stdout",
     "output_type": "stream",
     "text": [
      "Ignoring learning rate for AdaDeltaSolver\n"
     ]
    }
   ],
   "source": [
    "\n",
    "# create solver object for training the feedforward network \n",
    "solver_params = {'lr_rate': 0.001,  \\\n",
    "                 'momentum': 0.9}  \n",
    "#my_solver = DNN.SGDSolver(solver_params)\n",
    "#my_solver = DNN.NAGSolver(solver_params)\n",
    "#my_solver = DNN.RMSPropSolver(solver_params)\n",
    "#my_solver = DNN.AdaGradSolver(solver_params)\n",
    "my_solver = Solvers.AdaDeltaSolver(solver_params)\n",
    "\n"
   ]
  },
  {
   "cell_type": "markdown",
   "metadata": {},
   "source": [
    "The NetTrainer takes a Net object along with the solver and adds a loss function that will be employed for trainer. The main function of the NetTrainer is to manage calls that propagate training data forward, backpropagate the errors (cost gradients), and perform parameter updates. The trainer requires the training data and target vales (aka labels), Solver and Net objects and additional information such as the number of iterations, batch sizes, and display of current objective values during training.  "
   ]
  },
  {
   "cell_type": "code",
   "execution_count": null,
   "metadata": {
    "collapsed": false
   },
   "outputs": [],
   "source": [
    "# instantiate a NetTrainer to learn parameters of my_net using the my_solver \n",
    "train_params = {'net': my_net, \\\n",
    "                'loss_func': 'xent', \\\n",
    "                'batch_size': 10,  \\\n",
    "                'max_iter': 100000, \\\n",
    "                'train_data': data, \\\n",
    "                'label_data': labels, \\\n",
    "                'solver': my_solver, \\\n",
    "                'print_interval': 10000}\n",
    "my_trainer = DNN.NetTrainer(train_params)"
   ]
  },
  {
   "cell_type": "markdown",
   "metadata": {},
   "source": [
    "## Training the network\n",
    "Once the NetTrainer object has been properly instantiated, training is justa  matter of invoking the train method. The trainer will run for the specified number of iterations and display the information accordingly."
   ]
  },
  {
   "cell_type": "code",
   "execution_count": null,
   "metadata": {
    "collapsed": false,
    "scrolled": false
   },
   "outputs": [
    {
     "name": "stdout",
     "output_type": "stream",
     "text": [
      "Iteration 0, objective = 0.977882\n",
      "Iteration 10000, objective = 0.693216\n",
      "Iteration 20000, objective = 0.693039\n",
      "Iteration 30000, objective = 0.693146\n"
     ]
    }
   ],
   "source": [
    "my_trainer.train()"
   ]
  },
  {
   "cell_type": "markdown",
   "metadata": {},
   "source": [
    "## Checking the results\n",
    "After training, the Net object paramters must have change to approximate the input-output relation implicit in the training data. We can forward propagate the data and observe the predicted outputs."
   ]
  },
  {
   "cell_type": "code",
   "execution_count": null,
   "metadata": {
    "collapsed": false
   },
   "outputs": [],
   "source": [
    "my_net.forward(data)\n",
    "pred_labels = np.reshape(my_net.Xout > 0.5, -1)\n",
    "## plot data point with the predicted labels\n",
    "plt.plot(data[pred_labels, 0], data[pred_labels, 1], 'r+')\n",
    "plt.hold\n",
    "plt.plot(data[np.logical_not(pred_labels), 0], data[np.logical_not(pred_labels), 1], 'bo')\n",
    "plt.show()"
   ]
  }
 ],
 "metadata": {
  "kernelspec": {
   "display_name": "Python 2",
   "language": "python",
   "name": "python2"
  },
  "language_info": {
   "codemirror_mode": {
    "name": "ipython",
    "version": 2
   },
   "file_extension": ".py",
   "mimetype": "text/x-python",
   "name": "python",
   "nbconvert_exporter": "python",
   "pygments_lexer": "ipython2",
   "version": "2.7.6"
  }
 },
 "nbformat": 4,
 "nbformat_minor": 0
}
